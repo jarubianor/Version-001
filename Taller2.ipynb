{
 "cells": [
  {
   "cell_type": "code",
   "execution_count": 25,
   "metadata": {
    "scrolled": true
   },
   "outputs": [
    {
     "name": "stdout",
     "output_type": "stream",
     "text": [
      "Requirement already satisfied: fitz in e:\\programdata\\anaconda3\\lib\\site-packages (0.0.1.dev2)\n",
      "Requirement already satisfied: nipype in e:\\programdata\\anaconda3\\lib\\site-packages (from fitz) (1.6.0)\n",
      "Requirement already satisfied: httplib2 in e:\\programdata\\anaconda3\\lib\\site-packages (from fitz) (0.19.0)\n",
      "Requirement already satisfied: numpy in e:\\programdata\\anaconda3\\lib\\site-packages (from fitz) (1.18.5)\n",
      "Requirement already satisfied: configparser in e:\\programdata\\anaconda3\\lib\\site-packages (from fitz) (5.0.2)\n",
      "Requirement already satisfied: pyxnat in e:\\programdata\\anaconda3\\lib\\site-packages (from fitz) (1.4)\n",
      "Requirement already satisfied: pandas in e:\\programdata\\anaconda3\\lib\\site-packages (from fitz) (1.0.5)\n",
      "Requirement already satisfied: scipy in e:\\programdata\\anaconda3\\lib\\site-packages (from fitz) (1.5.0)\n",
      "Requirement already satisfied: configobj in e:\\programdata\\anaconda3\\lib\\site-packages (from fitz) (5.0.6)\n",
      "Requirement already satisfied: nibabel in e:\\programdata\\anaconda3\\lib\\site-packages (from fitz) (3.2.1)\n",
      "Requirement already satisfied: traits!=5.0,>=4.6 in e:\\programdata\\anaconda3\\lib\\site-packages (from nipype->fitz) (6.2.0)\n",
      "Requirement already satisfied: rdflib>=5.0.0 in e:\\programdata\\anaconda3\\lib\\site-packages (from nipype->fitz) (5.0.0)\n",
      "Requirement already satisfied: prov>=1.5.2 in e:\\programdata\\anaconda3\\lib\\site-packages (from nipype->fitz) (2.0.0)\n",
      "Requirement already satisfied: networkx>=2.0 in e:\\programdata\\anaconda3\\lib\\site-packages (from nipype->fitz) (2.4)\n",
      "Requirement already satisfied: packaging in e:\\programdata\\anaconda3\\lib\\site-packages (from nipype->fitz) (20.4)Note: you may need to restart the kernel to use updated packages.\n",
      "\n",
      "Requirement already satisfied: click>=6.6.0 in e:\\programdata\\anaconda3\\lib\\site-packages (from nipype->fitz) (7.1.2)\n",
      "Requirement already satisfied: pydot>=1.2.3 in e:\\programdata\\anaconda3\\lib\\site-packages (from nipype->fitz) (1.4.2)\n",
      "Requirement already satisfied: filelock>=3.0.0 in e:\\programdata\\anaconda3\\lib\\site-packages (from nipype->fitz) (3.0.12)\n",
      "Requirement already satisfied: etelemetry>=0.2.0 in e:\\programdata\\anaconda3\\lib\\site-packages (from nipype->fitz) (0.2.2)\n",
      "Requirement already satisfied: python-dateutil>=2.2 in e:\\programdata\\anaconda3\\lib\\site-packages (from nipype->fitz) (2.8.1)\n",
      "Requirement already satisfied: simplejson>=3.8.0 in e:\\programdata\\anaconda3\\lib\\site-packages (from nipype->fitz) (3.17.2)\n",
      "Requirement already satisfied: pyparsing<3,>=2.4.2 in e:\\programdata\\anaconda3\\lib\\site-packages (from httplib2->fitz) (2.4.7)\n",
      "Requirement already satisfied: pathlib>=1.0 in e:\\programdata\\anaconda3\\lib\\site-packages (from pyxnat->fitz) (1.0.1)\n",
      "Requirement already satisfied: lxml>=4.3 in e:\\programdata\\anaconda3\\lib\\site-packages (from pyxnat->fitz) (4.5.2)\n",
      "Requirement already satisfied: six>=1.15 in e:\\programdata\\anaconda3\\lib\\site-packages (from pyxnat->fitz) (1.15.0)\n",
      "Requirement already satisfied: requests>=2.20 in e:\\programdata\\anaconda3\\lib\\site-packages (from pyxnat->fitz) (2.24.0)\n",
      "Requirement already satisfied: future>=0.16 in e:\\programdata\\anaconda3\\lib\\site-packages (from pyxnat->fitz) (0.18.2)\n",
      "Requirement already satisfied: pytz>=2017.2 in e:\\programdata\\anaconda3\\lib\\site-packages (from pandas->fitz) (2020.1)\n",
      "Requirement already satisfied: isodate in e:\\programdata\\anaconda3\\lib\\site-packages (from rdflib>=5.0.0->nipype->fitz) (0.6.0)\n",
      "Requirement already satisfied: decorator>=4.3.0 in e:\\programdata\\anaconda3\\lib\\site-packages (from networkx>=2.0->nipype->fitz) (4.4.2)\n",
      "Requirement already satisfied: ci-info>=0.2 in e:\\programdata\\anaconda3\\lib\\site-packages (from etelemetry>=0.2.0->nipype->fitz) (0.2.0)\n",
      "Requirement already satisfied: chardet<4,>=3.0.2 in e:\\programdata\\anaconda3\\lib\\site-packages (from requests>=2.20->pyxnat->fitz) (3.0.4)\n",
      "Requirement already satisfied: certifi>=2017.4.17 in e:\\programdata\\anaconda3\\lib\\site-packages (from requests>=2.20->pyxnat->fitz) (2020.6.20)\n",
      "Requirement already satisfied: urllib3!=1.25.0,!=1.25.1,<1.26,>=1.21.1 in e:\\programdata\\anaconda3\\lib\\site-packages (from requests>=2.20->pyxnat->fitz) (1.25.9)\n",
      "Requirement already satisfied: idna<3,>=2.5 in e:\\programdata\\anaconda3\\lib\\site-packages (from requests>=2.20->pyxnat->fitz) (2.10)\n"
     ]
    }
   ],
   "source": [
    "pip install fitz"
   ]
  },
  {
   "cell_type": "code",
   "execution_count": 26,
   "metadata": {},
   "outputs": [
    {
     "name": "stdout",
     "output_type": "stream",
     "text": [
      "Requirement already satisfied: PyMuPDF in e:\\programdata\\anaconda3\\lib\\site-packages (1.18.9)\n",
      "Note: you may need to restart the kernel to use updated packages.\n"
     ]
    }
   ],
   "source": [
    "pip install PyMuPDF"
   ]
  },
  {
   "cell_type": "code",
   "execution_count": 27,
   "metadata": {},
   "outputs": [],
   "source": [
    "import fitz"
   ]
  },
  {
   "cell_type": "code",
   "execution_count": 60,
   "metadata": {},
   "outputs": [
    {
     "name": "stdout",
     "output_type": "stream",
     "text": [
      "Número de páginas:  1\n",
      "Metadatos:  {'format': 'PDF 1.3', 'title': '', 'author': '', 'subject': '', 'keywords': '', 'creator': 'Adobe InDesign CS6 (Windows)', 'producer': 'macOS Version 11.2.1 (Build 20D74) Quartz PDFContext', 'creationDate': \"D:20210225223227Z00'00'\", 'modDate': \"D:20210225223227Z00'00'\", 'trapped': '', 'encryption': None}\n",
      "Cantidad de palabras:  254\n"
     ]
    }
   ],
   "source": [
    "#Abrir el archivo\n",
    "\n",
    "documento = fitz.open('C:/Users/USER/OneDrive - Fundación Universitaria Konrad Lorenz/nlp/Taller2/python_books/python_books/Python - AWS.pdf')\n",
    "\n",
    "\n",
    "#Saber cantidad de páginas\n",
    "\n",
    "print(\"Número de páginas: \", documento.pageCount) \n",
    "\n",
    "\n",
    "#Extraer metadatos\n",
    "\n",
    "print(\"Metadatos: \", documento.metadata)          \n",
    "\n",
    "\n",
    "#Contar las palabras\n",
    "\n",
    "TextoCompleto = []\n",
    "for page in documento.pages(0,documento.pageCount,1):\n",
    "    texto = str(page.getText())\n",
    "    TextoCompleto.append(texto)\n",
    "    TextoCompleto = \"\".join(TextoCompleto)\n",
    "    \n",
    "print (\"Cantidad de palabras: \", len(TextoCompleto.split())) # Split sirve para hacer el conteo  https://www.geeksforgeeks.org/python-program-to-count-words-in-a-sentence/\n"
   ]
  },
  {
   "cell_type": "code",
   "execution_count": 58,
   "metadata": {},
   "outputs": [
    {
     "name": "stdout",
     "output_type": "stream",
     "text": [
      "Número de páginas:  1\n",
      "Metadatos:  {'format': 'PDF 1.3', 'title': 'Python Data Science Cookbook', 'author': 'Gopi Subramanian', 'subject': '', 'keywords': '', 'creator': 'calibre 2.35.0 [http://calibre-ebook.com]', 'producer': 'macOS Version 11.2.1 (Build 20D74) Quartz PDFContext', 'creationDate': \"D:20210225223143Z00'00'\", 'modDate': \"D:20210225223143Z00'00'\", 'trapped': '', 'encryption': None}\n",
      "Cantidad de palabras:  535\n"
     ]
    }
   ],
   "source": [
    "#Abrir el archivo\n",
    "\n",
    "documento = fitz.open('C:/Users/USER/OneDrive - Fundación Universitaria Konrad Lorenz/nlp/Taller2/python_books/python_books/Python  Data Science Cookbook.pdf')\n",
    "\n",
    "\n",
    "#Saber cantidad de páginas\n",
    "\n",
    "print(\"Número de páginas: \", documento.pageCount) \n",
    "\n",
    "\n",
    "#Extraer metadatos\n",
    "\n",
    "print(\"Metadatos: \", documento.metadata)          \n",
    "\n",
    "\n",
    "#Contar las palabras\n",
    "\n",
    "TextoCompleto = []\n",
    "for page in documento.pages(0,documento.pageCount,1):\n",
    "    texto = str(page.getText())\n",
    "    TextoCompleto.append(texto)\n",
    "    TextoCompleto = \"\".join(TextoCompleto)\n",
    "    \n",
    "print (\"Cantidad de palabras: \", len(TextoCompleto.split()))\n"
   ]
  },
  {
   "cell_type": "code",
   "execution_count": 59,
   "metadata": {},
   "outputs": [
    {
     "name": "stdout",
     "output_type": "stream",
     "text": [
      "Número de páginas:  1\n",
      "Metadatos:  {'format': 'PDF 1.3', 'title': 'Python for Finance', 'author': 'Yuxing Yan', 'subject': '', 'keywords': '', 'creator': 'Adobe InDesign CS6 (Windows)', 'producer': 'macOS Version 11.2.1 (Build 20D74) Quartz PDFContext', 'creationDate': \"D:20210225223246Z00'00'\", 'modDate': \"D:20210225223246Z00'00'\", 'trapped': '', 'encryption': None}\n",
      "Cantidad de palabras:  226\n"
     ]
    }
   ],
   "source": [
    "#Abrir el archivo\n",
    "\n",
    "documento = fitz.open('C:/Users/USER/OneDrive - Fundación Universitaria Konrad Lorenz/nlp/Taller2/python_books/python_books/Python - Finance.pdf')\n",
    "\n",
    "\n",
    "#Saber cantidad de páginas\n",
    "\n",
    "print(\"Número de páginas: \", documento.pageCount) \n",
    "\n",
    "\n",
    "#Extraer metadatos\n",
    "\n",
    "print(\"Metadatos: \", documento.metadata)          \n",
    "\n",
    "\n",
    "#Contar las palabras\n",
    "\n",
    "TextoCompleto = []\n",
    "for page in documento.pages(0,documento.pageCount,1):\n",
    "    texto = str(page.getText())\n",
    "    TextoCompleto.append(texto)\n",
    "    TextoCompleto = \"\".join(TextoCompleto)\n",
    "    \n",
    "print (\"Cantidad de palabras: \", len(TextoCompleto.split()))\n"
   ]
  }
 ],
 "metadata": {
  "kernelspec": {
   "display_name": "Python 3",
   "language": "python",
   "name": "python3"
  },
  "language_info": {
   "codemirror_mode": {
    "name": "ipython",
    "version": 3
   },
   "file_extension": ".py",
   "mimetype": "text/x-python",
   "name": "python",
   "nbconvert_exporter": "python",
   "pygments_lexer": "ipython3",
   "version": "3.8.3"
  }
 },
 "nbformat": 4,
 "nbformat_minor": 4
}
